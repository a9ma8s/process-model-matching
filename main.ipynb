{
 "cells": [
  {
   "cell_type": "code",
   "execution_count": 1,
   "metadata": {},
   "outputs": [
    {
     "data": {
      "text/html": [
       "<div>\n",
       "<style scoped>\n",
       "    .dataframe tbody tr th:only-of-type {\n",
       "        vertical-align: middle;\n",
       "    }\n",
       "\n",
       "    .dataframe tbody tr th {\n",
       "        vertical-align: top;\n",
       "    }\n",
       "\n",
       "    .dataframe thead th {\n",
       "        text-align: right;\n",
       "    }\n",
       "</style>\n",
       "<table border=\"1\" class=\"dataframe\">\n",
       "  <thead>\n",
       "    <tr style=\"text-align: right;\">\n",
       "      <th></th>\n",
       "      <th>Name</th>\n",
       "      <th>SID</th>\n",
       "      <th>Location</th>\n",
       "    </tr>\n",
       "  </thead>\n",
       "  <tbody>\n",
       "    <tr>\n",
       "      <th>0</th>\n",
       "      <td>Apply online</td>\n",
       "      <td>sid-B11703D1-08C3-416B-8947-76CE10A27978</td>\n",
       "      <td>Cologne</td>\n",
       "    </tr>\n",
       "    <tr>\n",
       "      <th>1</th>\n",
       "      <td>Send online protocol</td>\n",
       "      <td>sid-2A61C308-48B4-4C26-9CB3-D489A0BBC1E3</td>\n",
       "      <td>Cologne</td>\n",
       "    </tr>\n",
       "    <tr>\n",
       "      <th>2</th>\n",
       "      <td>Send documents by post</td>\n",
       "      <td>sid-4C4748D1-DBC6-4155-91C8-F71F3796A768</td>\n",
       "      <td>Cologne</td>\n",
       "    </tr>\n",
       "    <tr>\n",
       "      <th>3</th>\n",
       "      <td>Take aptitude test</td>\n",
       "      <td>sid-A3568080-F469-4D86-BB96-7A5C48342857</td>\n",
       "      <td>Cologne</td>\n",
       "    </tr>\n",
       "    <tr>\n",
       "      <th>4</th>\n",
       "      <td>Pay for aptitude test</td>\n",
       "      <td>sid-F6E821C8-4300-4AA0-B6D1-6BA5D15FA7DE</td>\n",
       "      <td>Cologne</td>\n",
       "    </tr>\n",
       "  </tbody>\n",
       "</table>\n",
       "</div>"
      ],
      "text/plain": [
       "                     Name                                       SID Location\n",
       "0            Apply online  sid-B11703D1-08C3-416B-8947-76CE10A27978  Cologne\n",
       "1    Send online protocol  sid-2A61C308-48B4-4C26-9CB3-D489A0BBC1E3  Cologne\n",
       "2  Send documents by post  sid-4C4748D1-DBC6-4155-91C8-F71F3796A768  Cologne\n",
       "3      Take aptitude test  sid-A3568080-F469-4D86-BB96-7A5C48342857  Cologne\n",
       "4   Pay for aptitude test  sid-F6E821C8-4300-4AA0-B6D1-6BA5D15FA7DE  Cologne"
      ]
     },
     "execution_count": 1,
     "metadata": {},
     "output_type": "execute_result"
    }
   ],
   "source": [
    "import pandas as pd\n",
    "import numpy as np\n",
    "import os\n",
    "import re\n",
    "\n",
    "model_path = \"data/university-admissions-2015/models\"\n",
    "\n",
    "def read_model(filename): \n",
    "    filepath = model_path + \"/\" + filename\n",
    "    tags = [\"startEvent\", \"intermediateCatchEvent\", \"task\", \"exclusiveGateway\"]\n",
    "    names = []\n",
    "    sids = []\n",
    "    locations = []\n",
    "    \n",
    "    with open(filepath, 'r') as file: \n",
    "        for line in file:\n",
    "            line = line.replace('\"', '\\\\\"')\n",
    "            if re.match(r'[ \\t]+<\\w', line):\n",
    "                line = re.sub(r'[ \\t]+<', '', line)\n",
    "                words = line.split(\"\\\" \")\n",
    "                tag = words[0].split(\" \")[0]\n",
    "                if tag in tags:\n",
    "                    if tag == \"task\": \n",
    "                        name = words[-2].replace('name=\\\\\"', '')[:-1]\n",
    "                        sid = words[1].replace('id=\\\\\"', '')[:-1]\n",
    "                    else:\n",
    "                        name = words[-1].replace('name=\\\\\"', '')[:-4]\n",
    "                        sid = words[0].split(' ')[1].replace('id=\\\\\"', '')[:-1]\n",
    "\n",
    "                    if name != \"\":\n",
    "                        names.append(name)\n",
    "                        sids.append(sid)\n",
    "                        locations.append(filename[:-5])\n",
    "    \n",
    "    df = pd.DataFrame({\"Name\": names, \"SID\": sids, \"Location\": locations})\n",
    "    return df\n",
    "\n",
    "def read_all_models(model_path):\n",
    "    filenames = [f for f in os.listdir(model_path) if os.path.isfile(os.path.join(model_path, f))]\n",
    "    dfs = [read_model(filename) for filename in filenames]\n",
    "    df = pd.concat(dfs)\n",
    "    return df\n",
    "\n",
    "models = read_all_models(model_path)\n",
    "models.at[1,\"Name\"] = \"Send online protocol\" # weird characters\n",
    "models.head()"
   ]
  },
  {
   "cell_type": "code",
   "execution_count": 2,
   "metadata": {},
   "outputs": [
    {
     "data": {
      "text/html": [
       "<div>\n",
       "<style scoped>\n",
       "    .dataframe tbody tr th:only-of-type {\n",
       "        vertical-align: middle;\n",
       "    }\n",
       "\n",
       "    .dataframe tbody tr th {\n",
       "        vertical-align: top;\n",
       "    }\n",
       "\n",
       "    .dataframe thead th {\n",
       "        text-align: right;\n",
       "    }\n",
       "</style>\n",
       "<table border=\"1\" class=\"dataframe\">\n",
       "  <thead>\n",
       "    <tr style=\"text-align: right;\">\n",
       "      <th></th>\n",
       "      <th>SID1</th>\n",
       "      <th>SID2</th>\n",
       "    </tr>\n",
       "  </thead>\n",
       "  <tbody>\n",
       "    <tr>\n",
       "      <th>0</th>\n",
       "      <td>sid-50620B60-4F01-4DFD-8EB8-BBCAAECE6026</td>\n",
       "      <td>sid-02B39B7C-7C88-4BCC-AD34-FEED3A2D9E42</td>\n",
       "    </tr>\n",
       "    <tr>\n",
       "      <th>1</th>\n",
       "      <td>sid-8712EF38-01F5-4812-ACB7-8F0EF759F38C</td>\n",
       "      <td>sid-445A78A6-1CA7-40BF-B7BF-B8CCCAAEF703</td>\n",
       "    </tr>\n",
       "    <tr>\n",
       "      <th>2</th>\n",
       "      <td>sid-B41B5C8F-D1D5-4641-943B-DB396FD69D0B</td>\n",
       "      <td>sid-5108D3F6-5D84-4ECB-B826-1A54D3D17B20</td>\n",
       "    </tr>\n",
       "    <tr>\n",
       "      <th>3</th>\n",
       "      <td>sid-DF0BF153-C7B8-47A6-9436-2217B6A02FB9</td>\n",
       "      <td>sid-B296B105-D85C-47FE-A200-50F7C64E65CF</td>\n",
       "    </tr>\n",
       "    <tr>\n",
       "      <th>4</th>\n",
       "      <td>sid-4C4748D1-DBC6-4155-91C8-F71F3796A768</td>\n",
       "      <td>sid-234E99B4-0E97-4770-B2CF-AD0DACDF6888</td>\n",
       "    </tr>\n",
       "  </tbody>\n",
       "</table>\n",
       "</div>"
      ],
      "text/plain": [
       "                                       SID1  \\\n",
       "0  sid-50620B60-4F01-4DFD-8EB8-BBCAAECE6026   \n",
       "1  sid-8712EF38-01F5-4812-ACB7-8F0EF759F38C   \n",
       "2  sid-B41B5C8F-D1D5-4641-943B-DB396FD69D0B   \n",
       "3  sid-DF0BF153-C7B8-47A6-9436-2217B6A02FB9   \n",
       "4  sid-4C4748D1-DBC6-4155-91C8-F71F3796A768   \n",
       "\n",
       "                                       SID2  \n",
       "0  sid-02B39B7C-7C88-4BCC-AD34-FEED3A2D9E42  \n",
       "1  sid-445A78A6-1CA7-40BF-B7BF-B8CCCAAEF703  \n",
       "2  sid-5108D3F6-5D84-4ECB-B826-1A54D3D17B20  \n",
       "3  sid-B296B105-D85C-47FE-A200-50F7C64E65CF  \n",
       "4  sid-234E99B4-0E97-4770-B2CF-AD0DACDF6888  "
      ]
     },
     "execution_count": 2,
     "metadata": {},
     "output_type": "execute_result"
    }
   ],
   "source": [
    "reference_path = \"data/university-admissions-2015/goldstandard\"\n",
    "\n",
    "def read_reference(filename):\n",
    "    filepath = reference_path + \"/\" + filename\n",
    "    sid1s = []\n",
    "    sid2s = []\n",
    "    \n",
    "    with open(filepath, 'r') as file: \n",
    "        for line in file:\n",
    "            line = line.replace('\"', '\\\\\"')\n",
    "            if re.match(r'[ \\t]+<\\w', line):\n",
    "                line = re.sub(r'[ \\t]+<', '', line)\n",
    "                words = line.split(\"\\\" \")\n",
    "                tag = words[0].split(\" \")[0]\n",
    "                if \"entity\" in tag:\n",
    "                    if tag == \"entity1\": \n",
    "                        sid = re.search(r'sid[-\\d\\w]+', line)[0]\n",
    "                        sid1s.append(sid)\n",
    "                    elif tag == \"entity2\":\n",
    "                        sid = re.search(r'sid[-\\d\\w]+', line)[0]\n",
    "                        sid2s.append(sid)\n",
    "    \n",
    "    # don't append list if sid pairs shouldn't be added reversed\n",
    "    df = pd.DataFrame({\"SID1\": sid1s + sid2s, \"SID2\": sid2s + sid1s})\n",
    "    return df\n",
    "    \n",
    "def read_all_references(reference_path): \n",
    "    filenames = [f for f in os.listdir(reference_path) if os.path.isfile(os.path.join(reference_path, f))]\n",
    "    dfs = [read_reference(filename) for filename in filenames]\n",
    "    df = pd.concat(dfs)\n",
    "    return df\n",
    "\n",
    "references = read_all_references(reference_path)\n",
    "references.head()"
   ]
  },
  {
   "cell_type": "code",
   "execution_count": 3,
   "metadata": {},
   "outputs": [],
   "source": [
    "def prepare_expressions(filename):\n",
    "    if os.path.exists(filename) and os.path.isfile(filename):  \n",
    "        df = pd.read_csv(filename)\n",
    "    else: \n",
    "        sid_dict = pd.Series(models[\"Name\"].values,index=models[\"SID\"]).to_dict()\n",
    "        df = references.copy()\n",
    "        df.replace({\"SID1\": sid_dict}, inplace=True)\n",
    "        df.replace({\"SID2\": sid_dict}, inplace=True)\n",
    "\n",
    "        df.columns = [\"Name1\", \"Name2\"]\n",
    "\n",
    "        # add expressions reversed\n",
    "        reversed_cols = pd.DataFrame({\"Name1\": df[\"Name2\"].tolist(), \"Name2\": df[\"Name1\"].tolist()})\n",
    "        df = df.append(reversed_cols)\n",
    "        df[\"Equivalent\"] = [True] * df.shape[0]\n",
    "\n",
    "        expressions = models[\"Name\"].tolist()\n",
    "\n",
    "        for expr1 in expressions:\n",
    "            for expr2 in expressions:\n",
    "                if not ((df[['Name1','Name2']].values == [expr1, expr2]).all(axis=1).any()):\n",
    "                    row = pd.DataFrame({\"Name1\": [expr1], \"Name2\": [expr2], \"Equivalent\": [False]})\n",
    "                    df = df.append(row)\n",
    "                \n",
    "    return df\n",
    "                \n",
    "expressions = prepare_expressions(\"expressions.csv\")"
   ]
  },
  {
   "cell_type": "code",
   "execution_count": 4,
   "metadata": {},
   "outputs": [
    {
     "data": {
      "text/html": [
       "<div>\n",
       "<style scoped>\n",
       "    .dataframe tbody tr th:only-of-type {\n",
       "        vertical-align: middle;\n",
       "    }\n",
       "\n",
       "    .dataframe tbody tr th {\n",
       "        vertical-align: top;\n",
       "    }\n",
       "\n",
       "    .dataframe thead th {\n",
       "        text-align: right;\n",
       "    }\n",
       "</style>\n",
       "<table border=\"1\" class=\"dataframe\">\n",
       "  <thead>\n",
       "    <tr style=\"text-align: right;\">\n",
       "      <th></th>\n",
       "      <th>Name1</th>\n",
       "      <th>Name2</th>\n",
       "      <th>Equivalent</th>\n",
       "    </tr>\n",
       "  </thead>\n",
       "  <tbody>\n",
       "    <tr>\n",
       "      <th>31044</th>\n",
       "      <td>Matriculate</td>\n",
       "      <td>Send german application</td>\n",
       "      <td>False</td>\n",
       "    </tr>\n",
       "    <tr>\n",
       "      <th>31045</th>\n",
       "      <td>Matriculate</td>\n",
       "      <td>Fill in online form of application</td>\n",
       "      <td>False</td>\n",
       "    </tr>\n",
       "    <tr>\n",
       "      <th>31046</th>\n",
       "      <td>Matriculate</td>\n",
       "      <td>Receive Commitment</td>\n",
       "      <td>False</td>\n",
       "    </tr>\n",
       "    <tr>\n",
       "      <th>31047</th>\n",
       "      <td>Matriculate</td>\n",
       "      <td>Waiting for response</td>\n",
       "      <td>False</td>\n",
       "    </tr>\n",
       "    <tr>\n",
       "      <th>31048</th>\n",
       "      <td>Matriculate</td>\n",
       "      <td>Matriculate</td>\n",
       "      <td>False</td>\n",
       "    </tr>\n",
       "  </tbody>\n",
       "</table>\n",
       "</div>"
      ],
      "text/plain": [
       "             Name1                               Name2  Equivalent\n",
       "31044  Matriculate             Send german application       False\n",
       "31045  Matriculate  Fill in online form of application       False\n",
       "31046  Matriculate                  Receive Commitment       False\n",
       "31047  Matriculate                Waiting for response       False\n",
       "31048  Matriculate                         Matriculate       False"
      ]
     },
     "execution_count": 4,
     "metadata": {},
     "output_type": "execute_result"
    }
   ],
   "source": [
    "expressions.to_csv(\"expressions.csv\", index=False)\n",
    "expressions.tail()"
   ]
  },
  {
   "cell_type": "code",
   "execution_count": 5,
   "metadata": {},
   "outputs": [
    {
     "name": "stdout",
     "output_type": "stream",
     "text": [
      "showing info https://raw.githubusercontent.com/nltk/nltk_data/gh-pages/index.xml\n"
     ]
    },
    {
     "data": {
      "text/html": [
       "<div>\n",
       "<style scoped>\n",
       "    .dataframe tbody tr th:only-of-type {\n",
       "        vertical-align: middle;\n",
       "    }\n",
       "\n",
       "    .dataframe tbody tr th {\n",
       "        vertical-align: top;\n",
       "    }\n",
       "\n",
       "    .dataframe thead th {\n",
       "        text-align: right;\n",
       "    }\n",
       "</style>\n",
       "<table border=\"1\" class=\"dataframe\">\n",
       "  <thead>\n",
       "    <tr style=\"text-align: right;\">\n",
       "      <th></th>\n",
       "      <th>Name1</th>\n",
       "      <th>Name2</th>\n",
       "      <th>Equivalent</th>\n",
       "    </tr>\n",
       "  </thead>\n",
       "  <tbody>\n",
       "    <tr>\n",
       "      <th>0</th>\n",
       "      <td>send letter rejection</td>\n",
       "      <td>send letter rejection</td>\n",
       "      <td>True</td>\n",
       "    </tr>\n",
       "    <tr>\n",
       "      <th>1</th>\n",
       "      <td>rejected</td>\n",
       "      <td>rejected</td>\n",
       "      <td>True</td>\n",
       "    </tr>\n",
       "    <tr>\n",
       "      <th>2</th>\n",
       "      <td>check document</td>\n",
       "      <td>check document</td>\n",
       "      <td>True</td>\n",
       "    </tr>\n",
       "    <tr>\n",
       "      <th>3</th>\n",
       "      <td>wait result</td>\n",
       "      <td>wait result</td>\n",
       "      <td>True</td>\n",
       "    </tr>\n",
       "    <tr>\n",
       "      <th>4</th>\n",
       "      <td>send document post</td>\n",
       "      <td>send online protocol</td>\n",
       "      <td>True</td>\n",
       "    </tr>\n",
       "  </tbody>\n",
       "</table>\n",
       "</div>"
      ],
      "text/plain": [
       "                   Name1                  Name2  Equivalent\n",
       "0  send letter rejection  send letter rejection        True\n",
       "1               rejected               rejected        True\n",
       "2         check document         check document        True\n",
       "3            wait result            wait result        True\n",
       "4     send document post   send online protocol        True"
      ]
     },
     "execution_count": 5,
     "metadata": {},
     "output_type": "execute_result"
    }
   ],
   "source": [
    "import nltk\n",
    "nltk.download()\n",
    "from nltk.corpus import stopwords\n",
    "from nltk.stem import WordNetLemmatizer \n",
    "\n",
    "stop_words = set(stopwords.words('english'))\n",
    "lemmatizer = WordNetLemmatizer() \n",
    "def preprocess_text(text):\n",
    "    text = ' '.join([lemmatizer.lemmatize(word.lower()) for word in text.split() if word not in stop_words])\n",
    "    return text\n",
    "\n",
    "expressions['Name1'] = expressions['Name1'].apply(lambda x: preprocess_text(x))\n",
    "expressions['Name2'] = expressions['Name2'].apply(lambda x: preprocess_text(x))\n",
    "expressions.head()"
   ]
  },
  {
   "cell_type": "code",
   "execution_count": 6,
   "metadata": {},
   "outputs": [
    {
     "data": {
      "text/html": [
       "<div>\n",
       "<style scoped>\n",
       "    .dataframe tbody tr th:only-of-type {\n",
       "        vertical-align: middle;\n",
       "    }\n",
       "\n",
       "    .dataframe tbody tr th {\n",
       "        vertical-align: top;\n",
       "    }\n",
       "\n",
       "    .dataframe thead th {\n",
       "        text-align: right;\n",
       "    }\n",
       "</style>\n",
       "<table border=\"1\" class=\"dataframe\">\n",
       "  <thead>\n",
       "    <tr style=\"text-align: right;\">\n",
       "      <th></th>\n",
       "      <th>Name1</th>\n",
       "      <th>Name2</th>\n",
       "      <th>Equivalent</th>\n",
       "    </tr>\n",
       "  </thead>\n",
       "  <tbody>\n",
       "    <tr>\n",
       "      <th>31044</th>\n",
       "      <td>matriculate</td>\n",
       "      <td>send german application</td>\n",
       "      <td>False</td>\n",
       "    </tr>\n",
       "    <tr>\n",
       "      <th>31045</th>\n",
       "      <td>matriculate</td>\n",
       "      <td>fill online form application</td>\n",
       "      <td>False</td>\n",
       "    </tr>\n",
       "    <tr>\n",
       "      <th>31046</th>\n",
       "      <td>matriculate</td>\n",
       "      <td>receive commitment</td>\n",
       "      <td>False</td>\n",
       "    </tr>\n",
       "    <tr>\n",
       "      <th>31047</th>\n",
       "      <td>matriculate</td>\n",
       "      <td>waiting response</td>\n",
       "      <td>False</td>\n",
       "    </tr>\n",
       "    <tr>\n",
       "      <th>31048</th>\n",
       "      <td>matriculate</td>\n",
       "      <td>matriculate</td>\n",
       "      <td>True</td>\n",
       "    </tr>\n",
       "  </tbody>\n",
       "</table>\n",
       "</div>"
      ],
      "text/plain": [
       "             Name1                         Name2  Equivalent\n",
       "31044  matriculate       send german application       False\n",
       "31045  matriculate  fill online form application       False\n",
       "31046  matriculate            receive commitment       False\n",
       "31047  matriculate              waiting response       False\n",
       "31048  matriculate                   matriculate        True"
      ]
     },
     "execution_count": 6,
     "metadata": {},
     "output_type": "execute_result"
    }
   ],
   "source": [
    "expressions.loc[expressions[\"Name1\"] == expressions[\"Name2\"], \"Equivalent\"] = True\n",
    "expressions.tail()"
   ]
  },
  {
   "cell_type": "code",
   "execution_count": 7,
   "metadata": {},
   "outputs": [],
   "source": [
    "from gensim.models import Word2Vec\n",
    "\n",
    "all_words = [word for sent in expressions['Name1'].tolist() for word in sent.split()] \n",
    "all_sents = [sent.split() for sent in expressions['Name1'].tolist()]\n",
    "word2vec = Word2Vec(all_sents, min_count=2)"
   ]
  },
  {
   "cell_type": "code",
   "execution_count": 8,
   "metadata": {},
   "outputs": [
    {
     "name": "stderr",
     "output_type": "stream",
     "text": [
      "D:\\Programme\\Sprachen\\Anaconda3\\lib\\site-packages\\ipykernel_launcher.py:4: DeprecationWarning: Call to deprecated `__getitem__` (Method will be removed in 4.0.0, use self.wv.__getitem__() instead).\n",
      "  after removing the cwd from sys.path.\n",
      "D:\\Programme\\Sprachen\\Anaconda3\\lib\\site-packages\\ipykernel_launcher.py:5: DeprecationWarning: Call to deprecated `__getitem__` (Method will be removed in 4.0.0, use self.wv.__getitem__() instead).\n",
      "  \"\"\"\n"
     ]
    },
    {
     "data": {
      "text/html": [
       "<div>\n",
       "<style scoped>\n",
       "    .dataframe tbody tr th:only-of-type {\n",
       "        vertical-align: middle;\n",
       "    }\n",
       "\n",
       "    .dataframe tbody tr th {\n",
       "        vertical-align: top;\n",
       "    }\n",
       "\n",
       "    .dataframe thead th {\n",
       "        text-align: right;\n",
       "    }\n",
       "</style>\n",
       "<table border=\"1\" class=\"dataframe\">\n",
       "  <thead>\n",
       "    <tr style=\"text-align: right;\">\n",
       "      <th></th>\n",
       "      <th>Name1</th>\n",
       "      <th>Name2</th>\n",
       "      <th>Equivalent</th>\n",
       "      <th>CosDistW</th>\n",
       "    </tr>\n",
       "  </thead>\n",
       "  <tbody>\n",
       "    <tr>\n",
       "      <th>31044</th>\n",
       "      <td>matriculate</td>\n",
       "      <td>send german application</td>\n",
       "      <td>False</td>\n",
       "      <td>1.003904</td>\n",
       "    </tr>\n",
       "    <tr>\n",
       "      <th>31045</th>\n",
       "      <td>matriculate</td>\n",
       "      <td>fill online form application</td>\n",
       "      <td>False</td>\n",
       "      <td>1.023672</td>\n",
       "    </tr>\n",
       "    <tr>\n",
       "      <th>31046</th>\n",
       "      <td>matriculate</td>\n",
       "      <td>receive commitment</td>\n",
       "      <td>False</td>\n",
       "      <td>0.924264</td>\n",
       "    </tr>\n",
       "    <tr>\n",
       "      <th>31047</th>\n",
       "      <td>matriculate</td>\n",
       "      <td>waiting response</td>\n",
       "      <td>False</td>\n",
       "      <td>1.103847</td>\n",
       "    </tr>\n",
       "    <tr>\n",
       "      <th>31048</th>\n",
       "      <td>matriculate</td>\n",
       "      <td>matriculate</td>\n",
       "      <td>True</td>\n",
       "      <td>0.000000</td>\n",
       "    </tr>\n",
       "  </tbody>\n",
       "</table>\n",
       "</div>"
      ],
      "text/plain": [
       "             Name1                         Name2  Equivalent  CosDistW\n",
       "31044  matriculate       send german application       False  1.003904\n",
       "31045  matriculate  fill online form application       False  1.023672\n",
       "31046  matriculate            receive commitment       False  0.924264\n",
       "31047  matriculate              waiting response       False  1.103847\n",
       "31048  matriculate                   matriculate        True  0.000000"
      ]
     },
     "execution_count": 8,
     "metadata": {},
     "output_type": "execute_result"
    }
   ],
   "source": [
    "import scipy\n",
    "def cosine_similarity(text1, text2, model):\n",
    "    if model == \"word2vec\":\n",
    "        v1 = np.mean([word2vec[word] for word in text1.split()],axis=0)\n",
    "        v2 = np.mean([word2vec[word] for word in text2.split()],axis=0)\n",
    "        cosine = scipy.spatial.distance.cosine(v1,v2)\n",
    "    else:\n",
    "        v1 = doc2vec.infer_vector(text1.split())\n",
    "        v2 = doc2vec.infer_vector(text2.split())\n",
    "        cosine = scipy.spatial.distance.cosine(v1, v2)\n",
    "    return cosine\n",
    "\n",
    "expressions['CosDistW'] = expressions.apply(lambda x: cosine_similarity(x[\"Name1\"], x[\"Name2\"], \"word2vec\"), axis=1)\n",
    "expressions.tail()"
   ]
  },
  {
   "cell_type": "code",
   "execution_count": 9,
   "metadata": {},
   "outputs": [
    {
     "name": "stderr",
     "output_type": "stream",
     "text": [
      "D:\\Programme\\Sprachen\\Anaconda3\\lib\\site-packages\\ipykernel_launcher.py:3: DeprecationWarning: Call to deprecated `wmdistance` (Method will be removed in 4.0.0, use self.wv.wmdistance() instead).\n",
      "  This is separate from the ipykernel package so we can avoid doing imports until\n"
     ]
    },
    {
     "data": {
      "text/html": [
       "<div>\n",
       "<style scoped>\n",
       "    .dataframe tbody tr th:only-of-type {\n",
       "        vertical-align: middle;\n",
       "    }\n",
       "\n",
       "    .dataframe tbody tr th {\n",
       "        vertical-align: top;\n",
       "    }\n",
       "\n",
       "    .dataframe thead th {\n",
       "        text-align: right;\n",
       "    }\n",
       "</style>\n",
       "<table border=\"1\" class=\"dataframe\">\n",
       "  <thead>\n",
       "    <tr style=\"text-align: right;\">\n",
       "      <th></th>\n",
       "      <th>Name1</th>\n",
       "      <th>Name2</th>\n",
       "      <th>Equivalent</th>\n",
       "      <th>CosDistW</th>\n",
       "      <th>WordDistW</th>\n",
       "    </tr>\n",
       "  </thead>\n",
       "  <tbody>\n",
       "    <tr>\n",
       "      <th>31044</th>\n",
       "      <td>matriculate</td>\n",
       "      <td>send german application</td>\n",
       "      <td>False</td>\n",
       "      <td>1.003904</td>\n",
       "      <td>3.216843</td>\n",
       "    </tr>\n",
       "    <tr>\n",
       "      <th>31045</th>\n",
       "      <td>matriculate</td>\n",
       "      <td>fill online form application</td>\n",
       "      <td>False</td>\n",
       "      <td>1.023672</td>\n",
       "      <td>3.940703</td>\n",
       "    </tr>\n",
       "    <tr>\n",
       "      <th>31046</th>\n",
       "      <td>matriculate</td>\n",
       "      <td>receive commitment</td>\n",
       "      <td>False</td>\n",
       "      <td>0.924264</td>\n",
       "      <td>2.513571</td>\n",
       "    </tr>\n",
       "    <tr>\n",
       "      <th>31047</th>\n",
       "      <td>matriculate</td>\n",
       "      <td>waiting response</td>\n",
       "      <td>False</td>\n",
       "      <td>1.103847</td>\n",
       "      <td>3.124907</td>\n",
       "    </tr>\n",
       "    <tr>\n",
       "      <th>31048</th>\n",
       "      <td>matriculate</td>\n",
       "      <td>matriculate</td>\n",
       "      <td>True</td>\n",
       "      <td>0.000000</td>\n",
       "      <td>0.000000</td>\n",
       "    </tr>\n",
       "  </tbody>\n",
       "</table>\n",
       "</div>"
      ],
      "text/plain": [
       "             Name1                         Name2  Equivalent  CosDistW  \\\n",
       "31044  matriculate       send german application       False  1.003904   \n",
       "31045  matriculate  fill online form application       False  1.023672   \n",
       "31046  matriculate            receive commitment       False  0.924264   \n",
       "31047  matriculate              waiting response       False  1.103847   \n",
       "31048  matriculate                   matriculate        True  0.000000   \n",
       "\n",
       "       WordDistW  \n",
       "31044   3.216843  \n",
       "31045   3.940703  \n",
       "31046   2.513571  \n",
       "31047   3.124907  \n",
       "31048   0.000000  "
      ]
     },
     "execution_count": 9,
     "metadata": {},
     "output_type": "execute_result"
    }
   ],
   "source": [
    "def word_movers_distance(sent1, sent2, model):\n",
    "    if model == \"word2vec\":\n",
    "        distance = word2vec.wmdistance(sent1.split(), sent2.split())\n",
    "    else:\n",
    "        v1 = doc2vec.infer_vector(sent1.split())\n",
    "        v2 = doc2vec.infer_vector(sent2.split())\n",
    "        distance = doc2vec.wmdistance(sent1, sent2)\n",
    "    return distance\n",
    "\n",
    "expressions['WordDistW'] = expressions.apply(lambda x: word_movers_distance(x[\"Name1\"], x[\"Name2\"], \"word2vec\"), axis=1)\n",
    "expressions.tail()"
   ]
  },
  {
   "cell_type": "code",
   "execution_count": 10,
   "metadata": {},
   "outputs": [
    {
     "name": "stderr",
     "output_type": "stream",
     "text": [
      "D:\\Programme\\Sprachen\\Anaconda3\\lib\\site-packages\\gensim\\models\\doc2vec.py:574: UserWarning: The parameter `size` is deprecated, will be removed in 4.0.0, use `vector_size` instead.\n",
      "  warnings.warn(\"The parameter `size` is deprecated, will be removed in 4.0.0, use `vector_size` instead.\")\n",
      "D:\\Programme\\Sprachen\\Anaconda3\\lib\\site-packages\\ipykernel_launcher.py:13: DeprecationWarning: Call to deprecated `iter` (Attribute will be removed in 4.0.0, use self.epochs instead).\n",
      "  del sys.path[0]\n"
     ]
    }
   ],
   "source": [
    "from gensim.models.doc2vec import Doc2Vec, TaggedDocument\n",
    "from nltk.tokenize import word_tokenize\n",
    "\n",
    "list_of_sentences = [\" \".join(sublist) for sublist in all_sents]\n",
    "#sentences = [TaggedDocument(sent, [i]) for i, sent in enumerate(list_of_sentences)]\n",
    "sentences = [TaggedDocument(words=word_tokenize(_d.lower()), tags=[str(i)]) for i, _d in enumerate(list_of_sentences)]\n",
    "\n",
    "doc2vec = Doc2Vec(size=15, alpha=0.025, min_alpha=0.00025, min_count=1, dm =1)\n",
    "doc2vec.build_vocab(sentences)\n",
    "    \n",
    "def train_doc2vec(epochs):\n",
    "    for epoch in range(epochs):\n",
    "        doc2vec.train(sentences, total_examples=doc2vec.corpus_count, epochs=doc2vec.iter)\n",
    "        # decrease the learning rate\n",
    "        doc2vec.alpha -= 0.0002\n",
    "        # fix the learning rate, no decay\n",
    "        doc2vec.min_alpha = doc2vec.alpha\n",
    "        \n",
    "train_doc2vec(10)"
   ]
  },
  {
   "cell_type": "code",
   "execution_count": 11,
   "metadata": {},
   "outputs": [
    {
     "name": "stderr",
     "output_type": "stream",
     "text": [
      "D:\\Programme\\Sprachen\\Anaconda3\\lib\\site-packages\\ipykernel_launcher.py:7: DeprecationWarning: Call to deprecated `wmdistance` (Method will be removed in 4.0.0, use self.wv.wmdistance() instead).\n",
      "  import sys\n"
     ]
    },
    {
     "data": {
      "text/html": [
       "<div>\n",
       "<style scoped>\n",
       "    .dataframe tbody tr th:only-of-type {\n",
       "        vertical-align: middle;\n",
       "    }\n",
       "\n",
       "    .dataframe tbody tr th {\n",
       "        vertical-align: top;\n",
       "    }\n",
       "\n",
       "    .dataframe thead th {\n",
       "        text-align: right;\n",
       "    }\n",
       "</style>\n",
       "<table border=\"1\" class=\"dataframe\">\n",
       "  <thead>\n",
       "    <tr style=\"text-align: right;\">\n",
       "      <th></th>\n",
       "      <th>Name1</th>\n",
       "      <th>Name2</th>\n",
       "      <th>Equivalent</th>\n",
       "      <th>CosDistW</th>\n",
       "      <th>WordDistW</th>\n",
       "      <th>CosDistD</th>\n",
       "      <th>WordDistD</th>\n",
       "    </tr>\n",
       "  </thead>\n",
       "  <tbody>\n",
       "    <tr>\n",
       "      <th>0</th>\n",
       "      <td>send letter rejection</td>\n",
       "      <td>send letter rejection</td>\n",
       "      <td>True</td>\n",
       "      <td>0.000000</td>\n",
       "      <td>0.000000</td>\n",
       "      <td>0.798607</td>\n",
       "      <td>0.0</td>\n",
       "    </tr>\n",
       "    <tr>\n",
       "      <th>1</th>\n",
       "      <td>rejected</td>\n",
       "      <td>rejected</td>\n",
       "      <td>True</td>\n",
       "      <td>0.000000</td>\n",
       "      <td>0.000000</td>\n",
       "      <td>0.060280</td>\n",
       "      <td>0.0</td>\n",
       "    </tr>\n",
       "    <tr>\n",
       "      <th>2</th>\n",
       "      <td>check document</td>\n",
       "      <td>check document</td>\n",
       "      <td>True</td>\n",
       "      <td>0.000000</td>\n",
       "      <td>0.000000</td>\n",
       "      <td>0.195001</td>\n",
       "      <td>0.0</td>\n",
       "    </tr>\n",
       "    <tr>\n",
       "      <th>3</th>\n",
       "      <td>wait result</td>\n",
       "      <td>wait result</td>\n",
       "      <td>True</td>\n",
       "      <td>0.000000</td>\n",
       "      <td>0.000000</td>\n",
       "      <td>0.353769</td>\n",
       "      <td>0.0</td>\n",
       "    </tr>\n",
       "    <tr>\n",
       "      <th>4</th>\n",
       "      <td>send document post</td>\n",
       "      <td>send online protocol</td>\n",
       "      <td>True</td>\n",
       "      <td>0.113114</td>\n",
       "      <td>1.659611</td>\n",
       "      <td>0.631033</td>\n",
       "      <td>0.0</td>\n",
       "    </tr>\n",
       "  </tbody>\n",
       "</table>\n",
       "</div>"
      ],
      "text/plain": [
       "                   Name1                  Name2  Equivalent  CosDistW  \\\n",
       "0  send letter rejection  send letter rejection        True  0.000000   \n",
       "1               rejected               rejected        True  0.000000   \n",
       "2         check document         check document        True  0.000000   \n",
       "3            wait result            wait result        True  0.000000   \n",
       "4     send document post   send online protocol        True  0.113114   \n",
       "\n",
       "   WordDistW  CosDistD  WordDistD  \n",
       "0   0.000000  0.798607        0.0  \n",
       "1   0.000000  0.060280        0.0  \n",
       "2   0.000000  0.195001        0.0  \n",
       "3   0.000000  0.353769        0.0  \n",
       "4   1.659611  0.631033        0.0  "
      ]
     },
     "execution_count": 11,
     "metadata": {},
     "output_type": "execute_result"
    }
   ],
   "source": [
    "expressions['CosDistD'] = expressions.apply(lambda x: cosine_similarity(x[\"Name1\"], x[\"Name2\"], \"doc2vec\"), axis=1)\n",
    "expressions['WordDistD'] = expressions.apply(lambda x: word_movers_distance(x[\"Name1\"], x[\"Name2\"], \"doc2vec\"), axis=1)\n",
    "expressions.head()"
   ]
  },
  {
   "cell_type": "code",
   "execution_count": 12,
   "metadata": {},
   "outputs": [
    {
     "data": {
      "text/html": [
       "<div>\n",
       "<style scoped>\n",
       "    .dataframe tbody tr th:only-of-type {\n",
       "        vertical-align: middle;\n",
       "    }\n",
       "\n",
       "    .dataframe tbody tr th {\n",
       "        vertical-align: top;\n",
       "    }\n",
       "\n",
       "    .dataframe thead th {\n",
       "        text-align: right;\n",
       "    }\n",
       "</style>\n",
       "<table border=\"1\" class=\"dataframe\">\n",
       "  <thead>\n",
       "    <tr style=\"text-align: right;\">\n",
       "      <th></th>\n",
       "      <th>Name1</th>\n",
       "      <th>Name2</th>\n",
       "      <th>Equivalent</th>\n",
       "      <th>CosDistW</th>\n",
       "      <th>WordDistW</th>\n",
       "      <th>CosDistD</th>\n",
       "      <th>WordDistD</th>\n",
       "    </tr>\n",
       "  </thead>\n",
       "  <tbody>\n",
       "    <tr>\n",
       "      <th>0</th>\n",
       "      <td>send letter rejection</td>\n",
       "      <td>send letter rejection</td>\n",
       "      <td>1</td>\n",
       "      <td>0.000000</td>\n",
       "      <td>0.000000</td>\n",
       "      <td>0.798607</td>\n",
       "      <td>0.0</td>\n",
       "    </tr>\n",
       "    <tr>\n",
       "      <th>1</th>\n",
       "      <td>rejected</td>\n",
       "      <td>rejected</td>\n",
       "      <td>1</td>\n",
       "      <td>0.000000</td>\n",
       "      <td>0.000000</td>\n",
       "      <td>0.060280</td>\n",
       "      <td>0.0</td>\n",
       "    </tr>\n",
       "    <tr>\n",
       "      <th>2</th>\n",
       "      <td>check document</td>\n",
       "      <td>check document</td>\n",
       "      <td>1</td>\n",
       "      <td>0.000000</td>\n",
       "      <td>0.000000</td>\n",
       "      <td>0.195001</td>\n",
       "      <td>0.0</td>\n",
       "    </tr>\n",
       "    <tr>\n",
       "      <th>3</th>\n",
       "      <td>wait result</td>\n",
       "      <td>wait result</td>\n",
       "      <td>1</td>\n",
       "      <td>0.000000</td>\n",
       "      <td>0.000000</td>\n",
       "      <td>0.353769</td>\n",
       "      <td>0.0</td>\n",
       "    </tr>\n",
       "    <tr>\n",
       "      <th>4</th>\n",
       "      <td>send document post</td>\n",
       "      <td>send online protocol</td>\n",
       "      <td>1</td>\n",
       "      <td>0.113114</td>\n",
       "      <td>1.659611</td>\n",
       "      <td>0.631033</td>\n",
       "      <td>0.0</td>\n",
       "    </tr>\n",
       "  </tbody>\n",
       "</table>\n",
       "</div>"
      ],
      "text/plain": [
       "                   Name1                  Name2  Equivalent  CosDistW  \\\n",
       "0  send letter rejection  send letter rejection           1  0.000000   \n",
       "1               rejected               rejected           1  0.000000   \n",
       "2         check document         check document           1  0.000000   \n",
       "3            wait result            wait result           1  0.000000   \n",
       "4     send document post   send online protocol           1  0.113114   \n",
       "\n",
       "   WordDistW  CosDistD  WordDistD  \n",
       "0   0.000000  0.798607        0.0  \n",
       "1   0.000000  0.060280        0.0  \n",
       "2   0.000000  0.195001        0.0  \n",
       "3   0.000000  0.353769        0.0  \n",
       "4   1.659611  0.631033        0.0  "
      ]
     },
     "execution_count": 12,
     "metadata": {},
     "output_type": "execute_result"
    }
   ],
   "source": [
    "expressions[\"Equivalent\"] = expressions[\"Equivalent\"].astype(int)\n",
    "expressions = expressions.replace([np.inf, -np.inf], np.nan)\n",
    "expressions = expressions.dropna()\n",
    "expressions.head()"
   ]
  },
  {
   "cell_type": "code",
   "execution_count": 13,
   "metadata": {},
   "outputs": [
    {
     "data": {
      "text/plain": [
       "0    28274\n",
       "1     1015\n",
       "Name: Equivalent, dtype: int64"
      ]
     },
     "execution_count": 13,
     "metadata": {},
     "output_type": "execute_result"
    }
   ],
   "source": [
    "expressions[\"Equivalent\"].value_counts()"
   ]
  },
  {
   "cell_type": "code",
   "execution_count": 14,
   "metadata": {},
   "outputs": [
    {
     "data": {
      "text/plain": [
       "1    28274\n",
       "0    28274\n",
       "Name: Equivalent, dtype: int64"
      ]
     },
     "execution_count": 14,
     "metadata": {},
     "output_type": "execute_result"
    }
   ],
   "source": [
    "from sklearn.utils import resample\n",
    "from sklearn.model_selection import cross_val_score\n",
    "\n",
    "df = expressions.copy()\n",
    "df_majority = df[df[\"Equivalent\"] == 0]\n",
    "df_minority = df[df[\"Equivalent\"] == 1]\n",
    "\n",
    "n_majority = expressions[\"Equivalent\"].value_counts().max()\n",
    "df_minority_upsampled = resample(df_minority, replace=True, n_samples=n_majority, random_state=42)\n",
    "df_upsampled = pd.concat([df_majority, df_minority_upsampled])\n",
    "\n",
    "df_upsampled[\"Equivalent\"].value_counts()"
   ]
  },
  {
   "cell_type": "code",
   "execution_count": 15,
   "metadata": {},
   "outputs": [],
   "source": [
    "from sklearn.model_selection import train_test_split\n",
    "\n",
    "important_cols = [\"CosDistW\", \"WordDistW\", \"CosDistD\", \"WordDistD\"]\n",
    "\n",
    "X_train_u, X_test_u, y_train_u, y_test_u = train_test_split(df_upsampled[important_cols], df_upsampled[\"Equivalent\"], test_size=0.2, random_state=42, shuffle=True)\n",
    "X_train, X_test, y_train, y_test = train_test_split(df[important_cols], df[\"Equivalent\"], test_size=0.2, random_state=522, shuffle=True)"
   ]
  },
  {
   "cell_type": "raw",
   "metadata": {},
   "source": [
    "from sklearn import svm\n",
    "from sklearn.model_selection import cross_val_score\n",
    "from sklearn import metrics\n",
    "\n",
    "svm_clf = svm.SVC(kernel='linear', C=1)\n",
    "scores = cross_val_score(svm_clf, X_train, y_train, cv=5)\n",
    "print(\"Accuracy: %0.2f (+/- %0.2f)\" % (scores.mean(), scores.std() * 2))\n",
    "scores = cross_val_score(svm_clf, X_train, y_train, cv=5, scoring='f1_macro')"
   ]
  },
  {
   "cell_type": "raw",
   "metadata": {},
   "source": [
    "poly_svm_clf = svm.SVC(kernel='poly', C=1)\n",
    "scores = cross_val_score(poly_svm_clf, X_train, y_train, cv=5)\n",
    "print(\"Accuracy: %0.2f (+/- %0.2f)\" % (scores.mean(), scores.std() * 2))\n",
    "scores = cross_val_score(poly_svm_clf, X_train, y_train, cv=5, scoring='f1_macro')"
   ]
  },
  {
   "cell_type": "code",
   "execution_count": 22,
   "metadata": {},
   "outputs": [
    {
     "name": "stdout",
     "output_type": "stream",
     "text": [
      "Accuracy: 0.86 (+/- 0.02)\n"
     ]
    }
   ],
   "source": [
    "from sklearn import metrics\n",
    "from sklearn.model_selection import cross_val_score\n",
    "from sklearn.tree import DecisionTreeClassifier\n",
    "\n",
    "decision_tree = DecisionTreeClassifier(criterion = \"gini\", splitter = 'random', max_leaf_nodes = 10, min_samples_leaf = 5, max_depth= 5)\n",
    "#decision_tree = DecisionTreeClassifier()\n",
    "scores = cross_val_score(decision_tree, X_train_u, y_train_u, cv=5)\n",
    "print(\"Accuracy: %0.2f (+/- %0.2f)\" % (scores.mean(), scores.std() * 2))\n",
    "scores = cross_val_score(decision_tree, X_train_u, y_train_u, cv=5, scoring='f1_macro')"
   ]
  },
  {
   "cell_type": "code",
   "execution_count": 23,
   "metadata": {},
   "outputs": [
    {
     "name": "stdout",
     "output_type": "stream",
     "text": [
      "accuracy  0.9419597132127006\n",
      "precision  0.34490238611713664\n",
      "recall  0.8071065989847716\n"
     ]
    }
   ],
   "source": [
    "from sklearn.metrics import accuracy_score\n",
    "from sklearn.metrics import precision_score\n",
    "from sklearn.metrics import recall_score\n",
    "\n",
    "decision_tree.fit(X_train_u, y_train_u)\n",
    "y_pred = decision_tree.predict(X_test)\n",
    "print(\"accuracy \", accuracy_score(y_test, y_pred))\n",
    "print(\"precision \", precision_score(y_test, y_pred))\n",
    "print(\"recall \", recall_score(y_test, y_pred))"
   ]
  },
  {
   "cell_type": "code",
   "execution_count": 24,
   "metadata": {},
   "outputs": [
    {
     "data": {
      "image/png": "[encoded data removed]",
      "text/plain": [
       "<IPython.core.display.Image object>"
      ]
     },
     "execution_count": 24,
     "metadata": {},
     "output_type": "execute_result"
    }
   ],
   "source": [
    "from sklearn.externals.six import StringIO  \n",
    "from IPython.display import Image  \n",
    "from sklearn.tree import export_graphviz\n",
    "import pydotplus\n",
    "\n",
    "dot_data = StringIO()\n",
    "export_graphviz(decision_tree, out_file=dot_data, filled=True, rounded=True, special_characters=True)\n",
    "graph = pydotplus.graph_from_dot_data(dot_data.getvalue())\n",
    "Image(graph.create_png())"
   ]
  },
  {
   "cell_type": "code",
   "execution_count": 25,
   "metadata": {},
   "outputs": [
    {
     "name": "stdout",
     "output_type": "stream",
     "text": [
      "CosDistW 0.0\n",
      "WordDistW 0.778835819930985\n",
      "CosDistD 0.0\n",
      "WordDistD 0.22116418006901495\n"
     ]
    }
   ],
   "source": [
    "for name, score in zip(important_cols, decision_tree.feature_importances_):\n",
    "    print(name, score)"
   ]
  },
  {
   "cell_type": "raw",
   "metadata": {},
   "source": [
    "from sklearn.ensemble import RandomForestClassifier\n",
    "\n",
    "random_forest = RandomForestClassifier()\n",
    "scores = cross_val_score(random_forest, X_train, y_train, cv=5)\n",
    "print(\"Accuracy: %0.2f (+/- %0.2f)\" % (scores.mean(), scores.std() * 2))\n",
    "scores = cross_val_score(random_forest, X_train, y_train, cv=5, scoring='f1_macro')"
   ]
  },
  {
   "cell_type": "raw",
   "metadata": {},
   "source": [
    "random_forest.fit(X_train, y_train)\n",
    "y_pred = random_forest.predict(X_test)\n",
    "print(\"accuracy \", accuracy_score(y_test, y_pred))\n",
    "print(\"precision \", precision_score(y_test, y_pred))\n",
    "print(\"recall \", recall_score(y_test, y_pred))"
   ]
  },
  {
   "cell_type": "raw",
   "metadata": {},
   "source": [
    "from sklearn.linear_model import LogisticRegression\n",
    "\n",
    "log_reg = LogisticRegression()\n",
    "scores = cross_val_score(log_reg, X_train, y_train, cv=5)\n",
    "print(\"Accuracy: %0.2f (+/- %0.2f)\" % (scores.mean(), scores.std() * 2))\n",
    "scores = cross_val_score(log_reg, X_train, y_train, cv=5, scoring='f1_macro')\n",
    "\n",
    "# try without resample"
   ]
  },
  {
   "cell_type": "raw",
   "metadata": {},
   "source": [
    "import tensorflow as tf\n",
    "#import tensorflow.compat.v1 as tf\n",
    "#tf.disable_v2_behavior()\n",
    "import tensorflow_hub as hub\n",
    "\n",
    "embed = hub.Module(\"https://tfhub.dev/google/universal-sentence-encoder/2\")\n",
    "tf.logging.set_verbosity(tf.logging.ERROR)\n",
    "    \n",
    "unique_sents = list(set(expressions[\"Name1\"].tolist()))\n",
    "\n",
    "#with tf.Session() as session:\n",
    "#    session.run([tf.global_variables_initializer(), tf.tables_initializer()])\n",
    "#    embeddings = embed(unique_sents)\n",
    "\n",
    "embeddings = embed(unique_sents)\n",
    "\n",
    "print(embeddings[3])    \n",
    "\n",
    "def google_embedding_inner(sent1, sent2):\n",
    "    emb1 = embeddings[unique_sents.index(sent1)]\n",
    "    emb2 = embeddings[unique_sents.index(sent2)]\n",
    "    similarity = np.inner(emb1, emb2)\n",
    "    return similarity"
   ]
  },
  {
   "cell_type": "code",
   "execution_count": 37,
   "metadata": {},
   "outputs": [
    {
     "name": "stderr",
     "output_type": "stream",
     "text": [
      "D:\\Programme\\Sprachen\\Anaconda3\\lib\\site-packages\\ipykernel_launcher.py:4: DeprecationWarning: Call to deprecated `__getitem__` (Method will be removed in 4.0.0, use self.wv.__getitem__() instead).\n",
      "  after removing the cwd from sys.path.\n",
      "D:\\Programme\\Sprachen\\Anaconda3\\lib\\site-packages\\ipykernel_launcher.py:5: DeprecationWarning: Call to deprecated `__getitem__` (Method will be removed in 4.0.0, use self.wv.__getitem__() instead).\n",
      "  \"\"\"\n",
      "D:\\Programme\\Sprachen\\Anaconda3\\lib\\site-packages\\ipykernel_launcher.py:3: DeprecationWarning: Call to deprecated `wmdistance` (Method will be removed in 4.0.0, use self.wv.wmdistance() instead).\n",
      "  This is separate from the ipykernel package so we can avoid doing imports until\n",
      "D:\\Programme\\Sprachen\\Anaconda3\\lib\\site-packages\\gensim\\models\\doc2vec.py:574: UserWarning: The parameter `size` is deprecated, will be removed in 4.0.0, use `vector_size` instead.\n",
      "  warnings.warn(\"The parameter `size` is deprecated, will be removed in 4.0.0, use `vector_size` instead.\")\n",
      "D:\\Programme\\Sprachen\\Anaconda3\\lib\\site-packages\\ipykernel_launcher.py:13: DeprecationWarning: Call to deprecated `iter` (Attribute will be removed in 4.0.0, use self.epochs instead).\n",
      "  del sys.path[0]\n",
      "D:\\Programme\\Sprachen\\Anaconda3\\lib\\site-packages\\ipykernel_launcher.py:7: DeprecationWarning: Call to deprecated `wmdistance` (Method will be removed in 4.0.0, use self.wv.wmdistance() instead).\n",
      "  import sys\n"
     ]
    },
    {
     "name": "stdout",
     "output_type": "stream",
     "text": [
      "accuracy  0.9396099184840596\n",
      "precision  0.35108583247156155\n",
      "recall  0.8092967818831943\n"
     ]
    }
   ],
   "source": [
    "def pipeline(model_path, reference_path, combined_filename):\n",
    "    models = read_all_models(model_path)\n",
    "    references = read_all_references(reference_path)\n",
    "    expressions = prepare_expressions(combined_filename) # csv!!!\n",
    "    expressions.to_csv(combined_filename, index=False)\n",
    "    expressions['Name1'] = expressions['Name1'].apply(lambda x: preprocess_text(x))\n",
    "    expressions['Name2'] = expressions['Name2'].apply(lambda x: preprocess_text(x))\n",
    "    expressions.loc[expressions[\"Name1\"] == expressions[\"Name2\"], \"Equivalent\"] = True\n",
    "    all_words = [word for sent in expressions['Name1'].tolist() for word in sent.split()] \n",
    "    all_sents = [sent.split() for sent in expressions['Name1'].tolist()]\n",
    "    word2vec = Word2Vec(all_sents, min_count=2)\n",
    "    expressions['CosDistW'] = expressions.apply(lambda x: cosine_similarity(x[\"Name1\"], x[\"Name2\"], \"word2vec\"), axis=1)\n",
    "    expressions['WordDistW'] = expressions.apply(lambda x: word_movers_distance(x[\"Name1\"], x[\"Name2\"], \"word2vec\"), axis=1)\n",
    "    \n",
    "    list_of_sentences = [\" \".join(sublist) for sublist in all_sents]\n",
    "    sentences = [TaggedDocument(words=word_tokenize(_d.lower()), tags=[str(i)]) for i, _d in enumerate(list_of_sentences)]\n",
    "\n",
    "    doc2vec = Doc2Vec(size=15, alpha=0.025, min_alpha=0.00025, min_count=1, dm =1)\n",
    "    doc2vec.build_vocab(sentences)\n",
    "    train_doc2vec(10)\n",
    "    \n",
    "    expressions['CosDistD'] = expressions.apply(lambda x: cosine_similarity(x[\"Name1\"], x[\"Name2\"], \"doc2vec\"), axis=1)\n",
    "    expressions['WordDistD'] = expressions.apply(lambda x: word_movers_distance(x[\"Name1\"], x[\"Name2\"], \"doc2vec\"), axis=1)\n",
    "    \n",
    "    expressions[\"Equivalent\"] = expressions[\"Equivalent\"].astype(int)\n",
    "    expressions = expressions.replace([np.inf, -np.inf], np.nan)\n",
    "    expressions = expressions.dropna()\n",
    "    \n",
    "    df = expressions.copy()    \n",
    "    important_cols = [\"CosDistW\", \"WordDistW\", \"CosDistD\", \"WordDistD\"]\n",
    "    X_train, X_test, y_train, y_test = train_test_split(df[important_cols], df[\"Equivalent\"], test_size=0.2, random_state=42, shuffle=True)\n",
    "    return X_train, y_train, expressions\n",
    "\n",
    "ua17_models = \"data/university-admissions-2017/dataset-bpmn/bpmn-models\"\n",
    "ua17_references = \"data/university-admissions-2017/dataset-bpmn/reference\"\n",
    "ua17_combined = \"ua17_data.csv\"\n",
    "X_train2, y_train2, names = pipeline(ua17_models, ua17_references, ua17_combined)\n",
    "\n",
    "y_pred = decision_tree.predict(X_train2)\n",
    "print(\"accuracy \", accuracy_score(y_train2, y_pred))\n",
    "print(\"precision \", precision_score(y_train2, y_pred))\n",
    "print(\"recall \", recall_score(y_train2, y_pred))"
   ]
  },
  {
   "cell_type": "code",
   "execution_count": 38,
   "metadata": {},
   "outputs": [
    {
     "data": {
      "image/png": "[encoded data removed]",
      "text/plain": [
       "<Figure size 288x288 with 1 Axes>"
      ]
     },
     "metadata": {
      "needs_background": "light"
     },
     "output_type": "display_data"
    }
   ],
   "source": [
    "from sklearn.metrics import confusion_matrix\n",
    "import matplotlib.pyplot as plt\n",
    "\n",
    "conf_mx = confusion_matrix(y_train2, y_pred)\n",
    "row_sums = conf_mx.sum(axis=1, keepdims=True)\n",
    "norm_conf_mx = conf_mx / row_sums\n",
    "\n",
    "np.fill_diagonal(norm_conf_mx, 0)\n",
    "plt.matshow(norm_conf_mx, cmap=plt.cm.gray)\n",
    "plt.show()"
   ]
  },
  {
   "cell_type": "code",
   "execution_count": 39,
   "metadata": {},
   "outputs": [
    {
     "ename": "IndexError",
     "evalue": "positional indexers are out-of-bounds",
     "output_type": "error",
     "traceback": [
      "\u001b[1;31m---------------------------------------------------------------------------\u001b[0m",
      "\u001b[1;31mIndexError\u001b[0m                                Traceback (most recent call last)",
      "\u001b[1;32m<ipython-input-39-703cb9afbcb0>\u001b[0m in \u001b[0;36m<module>\u001b[1;34m\u001b[0m\n\u001b[0;32m      5\u001b[0m \u001b[0mX_bb\u001b[0m \u001b[1;33m=\u001b[0m \u001b[0mX_train2\u001b[0m\u001b[1;33m[\u001b[0m\u001b[1;33m(\u001b[0m\u001b[0my_train2\u001b[0m \u001b[1;33m==\u001b[0m \u001b[0mcl_b\u001b[0m\u001b[1;33m)\u001b[0m \u001b[1;33m&\u001b[0m \u001b[1;33m(\u001b[0m\u001b[0my_pred\u001b[0m \u001b[1;33m==\u001b[0m \u001b[0mcl_b\u001b[0m\u001b[1;33m)\u001b[0m\u001b[1;33m]\u001b[0m\u001b[1;33m\u001b[0m\u001b[1;33m\u001b[0m\u001b[0m\n\u001b[0;32m      6\u001b[0m \u001b[1;33m\u001b[0m\u001b[0m\n\u001b[1;32m----> 7\u001b[1;33m \u001b[0mnames\u001b[0m\u001b[1;33m.\u001b[0m\u001b[0miloc\u001b[0m\u001b[1;33m[\u001b[0m\u001b[0mX_ab\u001b[0m\u001b[1;33m,\u001b[0m\u001b[1;33m:\u001b[0m\u001b[1;36m2\u001b[0m\u001b[1;33m]\u001b[0m\u001b[1;33m\u001b[0m\u001b[1;33m\u001b[0m\u001b[0m\n\u001b[0m",
      "\u001b[1;32mD:\\Programme\\Sprachen\\Anaconda3\\lib\\site-packages\\pandas\\core\\indexing.py\u001b[0m in \u001b[0;36m__getitem__\u001b[1;34m(self, key)\u001b[0m\n\u001b[0;32m   1492\u001b[0m             \u001b[1;32mexcept\u001b[0m \u001b[1;33m(\u001b[0m\u001b[0mKeyError\u001b[0m\u001b[1;33m,\u001b[0m \u001b[0mIndexError\u001b[0m\u001b[1;33m,\u001b[0m \u001b[0mAttributeError\u001b[0m\u001b[1;33m)\u001b[0m\u001b[1;33m:\u001b[0m\u001b[1;33m\u001b[0m\u001b[1;33m\u001b[0m\u001b[0m\n\u001b[0;32m   1493\u001b[0m                 \u001b[1;32mpass\u001b[0m\u001b[1;33m\u001b[0m\u001b[1;33m\u001b[0m\u001b[0m\n\u001b[1;32m-> 1494\u001b[1;33m             \u001b[1;32mreturn\u001b[0m \u001b[0mself\u001b[0m\u001b[1;33m.\u001b[0m\u001b[0m_getitem_tuple\u001b[0m\u001b[1;33m(\u001b[0m\u001b[0mkey\u001b[0m\u001b[1;33m)\u001b[0m\u001b[1;33m\u001b[0m\u001b[1;33m\u001b[0m\u001b[0m\n\u001b[0m\u001b[0;32m   1495\u001b[0m         \u001b[1;32melse\u001b[0m\u001b[1;33m:\u001b[0m\u001b[1;33m\u001b[0m\u001b[1;33m\u001b[0m\u001b[0m\n\u001b[0;32m   1496\u001b[0m             \u001b[1;31m# we by definition only have the 0th axis\u001b[0m\u001b[1;33m\u001b[0m\u001b[1;33m\u001b[0m\u001b[1;33m\u001b[0m\u001b[0m\n",
      "\u001b[1;32mD:\\Programme\\Sprachen\\Anaconda3\\lib\\site-packages\\pandas\\core\\indexing.py\u001b[0m in \u001b[0;36m_getitem_tuple\u001b[1;34m(self, tup)\u001b[0m\n\u001b[0;32m   2141\u001b[0m     \u001b[1;32mdef\u001b[0m \u001b[0m_getitem_tuple\u001b[0m\u001b[1;33m(\u001b[0m\u001b[0mself\u001b[0m\u001b[1;33m,\u001b[0m \u001b[0mtup\u001b[0m\u001b[1;33m)\u001b[0m\u001b[1;33m:\u001b[0m\u001b[1;33m\u001b[0m\u001b[1;33m\u001b[0m\u001b[0m\n\u001b[0;32m   2142\u001b[0m \u001b[1;33m\u001b[0m\u001b[0m\n\u001b[1;32m-> 2143\u001b[1;33m         \u001b[0mself\u001b[0m\u001b[1;33m.\u001b[0m\u001b[0m_has_valid_tuple\u001b[0m\u001b[1;33m(\u001b[0m\u001b[0mtup\u001b[0m\u001b[1;33m)\u001b[0m\u001b[1;33m\u001b[0m\u001b[1;33m\u001b[0m\u001b[0m\n\u001b[0m\u001b[0;32m   2144\u001b[0m         \u001b[1;32mtry\u001b[0m\u001b[1;33m:\u001b[0m\u001b[1;33m\u001b[0m\u001b[1;33m\u001b[0m\u001b[0m\n\u001b[0;32m   2145\u001b[0m             \u001b[1;32mreturn\u001b[0m \u001b[0mself\u001b[0m\u001b[1;33m.\u001b[0m\u001b[0m_getitem_lowerdim\u001b[0m\u001b[1;33m(\u001b[0m\u001b[0mtup\u001b[0m\u001b[1;33m)\u001b[0m\u001b[1;33m\u001b[0m\u001b[1;33m\u001b[0m\u001b[0m\n",
      "\u001b[1;32mD:\\Programme\\Sprachen\\Anaconda3\\lib\\site-packages\\pandas\\core\\indexing.py\u001b[0m in \u001b[0;36m_has_valid_tuple\u001b[1;34m(self, key)\u001b[0m\n\u001b[0;32m    221\u001b[0m                 \u001b[1;32mraise\u001b[0m \u001b[0mIndexingError\u001b[0m\u001b[1;33m(\u001b[0m\u001b[1;34m'Too many indexers'\u001b[0m\u001b[1;33m)\u001b[0m\u001b[1;33m\u001b[0m\u001b[1;33m\u001b[0m\u001b[0m\n\u001b[0;32m    222\u001b[0m             \u001b[1;32mtry\u001b[0m\u001b[1;33m:\u001b[0m\u001b[1;33m\u001b[0m\u001b[1;33m\u001b[0m\u001b[0m\n\u001b[1;32m--> 223\u001b[1;33m                 \u001b[0mself\u001b[0m\u001b[1;33m.\u001b[0m\u001b[0m_validate_key\u001b[0m\u001b[1;33m(\u001b[0m\u001b[0mk\u001b[0m\u001b[1;33m,\u001b[0m \u001b[0mi\u001b[0m\u001b[1;33m)\u001b[0m\u001b[1;33m\u001b[0m\u001b[1;33m\u001b[0m\u001b[0m\n\u001b[0m\u001b[0;32m    224\u001b[0m             \u001b[1;32mexcept\u001b[0m \u001b[0mValueError\u001b[0m\u001b[1;33m:\u001b[0m\u001b[1;33m\u001b[0m\u001b[1;33m\u001b[0m\u001b[0m\n\u001b[0;32m    225\u001b[0m                 raise ValueError(\"Location based indexing can only have \"\n",
      "\u001b[1;32mD:\\Programme\\Sprachen\\Anaconda3\\lib\\site-packages\\pandas\\core\\indexing.py\u001b[0m in \u001b[0;36m_validate_key\u001b[1;34m(self, key, axis)\u001b[0m\n\u001b[0;32m   2079\u001b[0m \u001b[1;33m\u001b[0m\u001b[0m\n\u001b[0;32m   2080\u001b[0m             \u001b[1;32mif\u001b[0m \u001b[0mlen\u001b[0m\u001b[1;33m(\u001b[0m\u001b[0marr\u001b[0m\u001b[1;33m)\u001b[0m \u001b[1;32mand\u001b[0m \u001b[1;33m(\u001b[0m\u001b[0marr\u001b[0m\u001b[1;33m.\u001b[0m\u001b[0mmax\u001b[0m\u001b[1;33m(\u001b[0m\u001b[1;33m)\u001b[0m \u001b[1;33m>=\u001b[0m \u001b[0mlen_axis\u001b[0m \u001b[1;32mor\u001b[0m \u001b[0marr\u001b[0m\u001b[1;33m.\u001b[0m\u001b[0mmin\u001b[0m\u001b[1;33m(\u001b[0m\u001b[1;33m)\u001b[0m \u001b[1;33m<\u001b[0m \u001b[1;33m-\u001b[0m\u001b[0mlen_axis\u001b[0m\u001b[1;33m)\u001b[0m\u001b[1;33m:\u001b[0m\u001b[1;33m\u001b[0m\u001b[1;33m\u001b[0m\u001b[0m\n\u001b[1;32m-> 2081\u001b[1;33m                 \u001b[1;32mraise\u001b[0m \u001b[0mIndexError\u001b[0m\u001b[1;33m(\u001b[0m\u001b[1;34m\"positional indexers are out-of-bounds\"\u001b[0m\u001b[1;33m)\u001b[0m\u001b[1;33m\u001b[0m\u001b[1;33m\u001b[0m\u001b[0m\n\u001b[0m\u001b[0;32m   2082\u001b[0m         \u001b[1;32melse\u001b[0m\u001b[1;33m:\u001b[0m\u001b[1;33m\u001b[0m\u001b[1;33m\u001b[0m\u001b[0m\n\u001b[0;32m   2083\u001b[0m             raise ValueError(\"Can only index by location with \"\n",
      "\u001b[1;31mIndexError\u001b[0m: positional indexers are out-of-bounds"
     ]
    }
   ],
   "source": [
    "cl_a, cl_b = 0, 1\n",
    "X_aa = X_train2[(y_train2 == cl_a) & (y_pred == cl_a)]\n",
    "X_ab = X_train2.index[(y_train2 == cl_a) & (y_pred == cl_b)].tolist()\n",
    "X_ba = X_train2[(y_train2 == cl_b) & (y_pred == cl_a)]\n",
    "X_bb = X_train2[(y_train2 == cl_b) & (y_pred == cl_b)]\n",
    "\n",
    "names.iloc[X_ab,:2]"
   ]
  },
  {
   "cell_type": "code",
   "execution_count": null,
   "metadata": {},
   "outputs": [],
   "source": [
    "# nur auf bestimmten features?\n",
    "# fehler inspizieren\n",
    "# nicht aufsamplen?"
   ]
  },
  {
   "cell_type": "code",
   "execution_count": null,
   "metadata": {},
   "outputs": [],
   "source": []
  }
 ],
 "metadata": {
  "kernelspec": {
   "display_name": "Python 3",
   "language": "python",
   "name": "python3"
  },
  "language_info": {
   "codemirror_mode": {
    "name": "ipython",
    "version": 3
   },
   "file_extension": ".py",
   "mimetype": "text/x-python",
   "name": "python",
   "nbconvert_exporter": "python",
   "pygments_lexer": "ipython3",
   "version": "3.7.3"
  }
 },
 "nbformat": 4,
 "nbformat_minor": 4
}
